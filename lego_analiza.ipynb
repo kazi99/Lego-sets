{
 "nbformat": 4,
 "nbformat_minor": 2,
 "metadata": {
  "language_info": {
   "name": "python",
   "codemirror_mode": {
    "name": "ipython",
    "version": 3
   },
   "version": "3.7.2-final"
  },
  "orig_nbformat": 2,
  "file_extension": ".py",
  "mimetype": "text/x-python",
  "name": "python",
  "npconvert_exporter": "python",
  "pygments_lexer": "ipython3",
  "version": 3,
  "kernelspec": {
   "name": "python37264bit353f7b196f144d49a93d6d5a29b5a456",
   "display_name": "Python 3.7.2 64-bit"
  }
 },
 "cells": [
  {
   "cell_type": "markdown",
   "execution_count": null,
   "metadata": {},
   "outputs": [],
   "source": [
    "# Analiza Lego™ setov zadnjih deset let\n",
    "----"
   ]
  },
  {
   "cell_type": "code",
   "execution_count": 1,
   "metadata": {},
   "outputs": [],
   "source": [
    "import pandas as pd\n",
    "# prLint(pd.__version__) #test\n",
    "\n",
    "# import warnings\n",
    "# warnings.filterwarnings('ignore')\n",
    "\n",
    "sets = pd.read_csv('obdelani-podatki/bricksets-database-2009-2019.csv',index_col='id')\n",
    "pd.options.display.max_rows = 15"
   ]
  },
  {
   "cell_type": "code",
   "execution_count": 2,
   "metadata": {},
   "outputs": [
    {
     "data": {
      "text/html": "<div>\n<style scoped>\n    .dataframe tbody tr th:only-of-type {\n        vertical-align: middle;\n    }\n\n    .dataframe tbody tr th {\n        vertical-align: top;\n    }\n\n    .dataframe thead th {\n        text-align: right;\n    }\n</style>\n<table border=\"1\" class=\"dataframe\">\n  <thead>\n    <tr style=\"text-align: right;\">\n      <th></th>\n      <th>variant</th>\n      <th>ime_seta</th>\n      <th>tema</th>\n      <th>leto</th>\n      <th>tip_seta</th>\n      <th>figurice</th>\n      <th>st_kock</th>\n      <th>us_cena</th>\n      <th>eu_cena</th>\n      <th>us_ppp</th>\n      <th>eu_ppp</th>\n      <th>pakiranje</th>\n      <th>dostopnost</th>\n      <th>us_cas_izida</th>\n      <th>eu_cas_izida</th>\n    </tr>\n    <tr>\n      <th>id</th>\n      <th></th>\n      <th></th>\n      <th></th>\n      <th></th>\n      <th></th>\n      <th></th>\n      <th></th>\n      <th></th>\n      <th></th>\n      <th></th>\n      <th></th>\n      <th></th>\n      <th></th>\n      <th></th>\n      <th></th>\n    </tr>\n  </thead>\n  <tbody>\n    <tr>\n      <td>2009</td>\n      <td>1</td>\n      <td>Heart</td>\n      <td>Miscellaneous</td>\n      <td>2009</td>\n      <td>normal</td>\n      <td>NaN</td>\n      <td>NaN</td>\n      <td>NaN</td>\n      <td>NaN</td>\n      <td>NaN</td>\n      <td>NaN</td>\n      <td>Box</td>\n      <td>Promotional</td>\n      <td>NaN</td>\n      <td>NaN</td>\n    </tr>\n    <tr>\n      <td>3592</td>\n      <td>1</td>\n      <td>Knights' Kingdom Board Game</td>\n      <td>Games</td>\n      <td>2009</td>\n      <td>normal</td>\n      <td>NaN</td>\n      <td>NaN</td>\n      <td>NaN</td>\n      <td>NaN</td>\n      <td>NaN</td>\n      <td>NaN</td>\n      <td>NaN</td>\n      <td>NaN</td>\n      <td>NaN</td>\n      <td>NaN</td>\n    </tr>\n    <tr>\n      <td>3594</td>\n      <td>1</td>\n      <td>Bob's Workshop</td>\n      <td>Duplo</td>\n      <td>2009</td>\n      <td>normal</td>\n      <td>1.0</td>\n      <td>14.0</td>\n      <td>14.99</td>\n      <td>NaN</td>\n      <td>107.1</td>\n      <td>107.1</td>\n      <td>NaN</td>\n      <td>NaN</td>\n      <td>May 09</td>\n      <td>Mar 09</td>\n    </tr>\n    <tr>\n      <td>3595</td>\n      <td>1</td>\n      <td>Scoop at Bobland Bay</td>\n      <td>Duplo</td>\n      <td>2009</td>\n      <td>normal</td>\n      <td>NaN</td>\n      <td>28.0</td>\n      <td>19.99</td>\n      <td>NaN</td>\n      <td>71.4</td>\n      <td>71.4</td>\n      <td>NaN</td>\n      <td>NaN</td>\n      <td>May 09</td>\n      <td>Mar 09</td>\n    </tr>\n    <tr>\n      <td>3596</td>\n      <td>1</td>\n      <td>Muck Can Do It</td>\n      <td>Duplo</td>\n      <td>2009</td>\n      <td>normal</td>\n      <td>NaN</td>\n      <td>39.0</td>\n      <td>29.99</td>\n      <td>NaN</td>\n      <td>76.9</td>\n      <td>76.9</td>\n      <td>NaN</td>\n      <td>NaN</td>\n      <td>Jun 09</td>\n      <td>Mar 09</td>\n    </tr>\n    <tr>\n      <td>...</td>\n      <td>...</td>\n      <td>...</td>\n      <td>...</td>\n      <td>...</td>\n      <td>...</td>\n      <td>...</td>\n      <td>...</td>\n      <td>...</td>\n      <td>...</td>\n      <td>...</td>\n      <td>...</td>\n      <td>...</td>\n      <td>...</td>\n      <td>...</td>\n      <td>...</td>\n    </tr>\n    <tr>\n      <td>ST</td>\n      <td>1</td>\n      <td>Castle Byers</td>\n      <td>Stranger Things</td>\n      <td>2019</td>\n      <td>other</td>\n      <td>NaN</td>\n      <td>NaN</td>\n      <td>NaN</td>\n      <td>NaN</td>\n      <td>NaN</td>\n      <td>NaN</td>\n      <td>None (loose parts)</td>\n      <td>Promotional</td>\n      <td>NaN</td>\n      <td>NaN</td>\n    </tr>\n    <tr>\n      <td>STORMBREAKER</td>\n      <td>1</td>\n      <td>Stormbreaker</td>\n      <td>Marvel Super Heroes</td>\n      <td>2019</td>\n      <td>other</td>\n      <td>NaN</td>\n      <td>NaN</td>\n      <td>NaN</td>\n      <td>NaN</td>\n      <td>NaN</td>\n      <td>NaN</td>\n      <td>None (loose parts)</td>\n      <td>NaN</td>\n      <td>NaN</td>\n      <td>NaN</td>\n    </tr>\n    <tr>\n      <td>TANTIVEIV</td>\n      <td>1</td>\n      <td>Tantive IV</td>\n      <td>Star Wars</td>\n      <td>2019</td>\n      <td>other</td>\n      <td>NaN</td>\n      <td>NaN</td>\n      <td>NaN</td>\n      <td>NaN</td>\n      <td>NaN</td>\n      <td>NaN</td>\n      <td>None (loose parts)</td>\n      <td>NaN</td>\n      <td>NaN</td>\n      <td>NaN</td>\n    </tr>\n    <tr>\n      <td>TITW</td>\n      <td>1</td>\n      <td>Tree in the Woods</td>\n      <td>Promotional</td>\n      <td>2019</td>\n      <td>other</td>\n      <td>NaN</td>\n      <td>NaN</td>\n      <td>NaN</td>\n      <td>NaN</td>\n      <td>NaN</td>\n      <td>NaN</td>\n      <td>None (loose parts)</td>\n      <td>NaN</td>\n      <td>NaN</td>\n      <td>NaN</td>\n    </tr>\n    <tr>\n      <td>XWING</td>\n      <td>1</td>\n      <td>Mini X-wing Fighter</td>\n      <td>Star Wars</td>\n      <td>2019</td>\n      <td>other</td>\n      <td>NaN</td>\n      <td>NaN</td>\n      <td>NaN</td>\n      <td>NaN</td>\n      <td>NaN</td>\n      <td>NaN</td>\n      <td>None (loose parts)</td>\n      <td>Promotional</td>\n      <td>NaN</td>\n      <td>NaN</td>\n    </tr>\n  </tbody>\n</table>\n<p>7720 rows × 15 columns</p>\n</div>",
      "text/plain": "              variant                     ime_seta                 tema  leto  \\\nid                                                                              \n2009                1                        Heart        Miscellaneous  2009   \n3592                1  Knights' Kingdom Board Game                Games  2009   \n3594                1               Bob's Workshop                Duplo  2009   \n3595                1         Scoop at Bobland Bay                Duplo  2009   \n3596                1               Muck Can Do It                Duplo  2009   \n...               ...                          ...                  ...   ...   \nST                  1                 Castle Byers      Stranger Things  2019   \nSTORMBREAKER        1                 Stormbreaker  Marvel Super Heroes  2019   \nTANTIVEIV           1                   Tantive IV            Star Wars  2019   \nTITW                1            Tree in the Woods          Promotional  2019   \nXWING               1          Mini X-wing Fighter            Star Wars  2019   \n\n             tip_seta  figurice  st_kock  us_cena  eu_cena  us_ppp  eu_ppp  \\\nid                                                                           \n2009           normal       NaN      NaN      NaN      NaN     NaN     NaN   \n3592           normal       NaN      NaN      NaN      NaN     NaN     NaN   \n3594           normal       1.0     14.0    14.99      NaN   107.1   107.1   \n3595           normal       NaN     28.0    19.99      NaN    71.4    71.4   \n3596           normal       NaN     39.0    29.99      NaN    76.9    76.9   \n...               ...       ...      ...      ...      ...     ...     ...   \nST              other       NaN      NaN      NaN      NaN     NaN     NaN   \nSTORMBREAKER    other       NaN      NaN      NaN      NaN     NaN     NaN   \nTANTIVEIV       other       NaN      NaN      NaN      NaN     NaN     NaN   \nTITW            other       NaN      NaN      NaN      NaN     NaN     NaN   \nXWING           other       NaN      NaN      NaN      NaN     NaN     NaN   \n\n                       pakiranje   dostopnost us_cas_izida eu_cas_izida  \nid                                                                       \n2009                         Box  Promotional          NaN          NaN  \n3592                         NaN          NaN          NaN          NaN  \n3594                         NaN          NaN       May 09       Mar 09  \n3595                         NaN          NaN       May 09       Mar 09  \n3596                         NaN          NaN       Jun 09       Mar 09  \n...                          ...          ...          ...          ...  \nST            None (loose parts)  Promotional          NaN          NaN  \nSTORMBREAKER  None (loose parts)          NaN          NaN          NaN  \nTANTIVEIV     None (loose parts)          NaN          NaN          NaN  \nTITW          None (loose parts)          NaN          NaN          NaN  \nXWING         None (loose parts)  Promotional          NaN          NaN  \n\n[7720 rows x 15 columns]"
     },
     "execution_count": 2,
     "metadata": {},
     "output_type": "execute_result"
    }
   ],
   "source": [
    "sets"
   ]
  },
  {
   "cell_type": "code",
   "execution_count": 4,
   "metadata": {},
   "outputs": [
    {
     "data": {
      "text/plain": "id\n2009                  Miscellaneous\n3592                          Games\n3594                          Duplo\n3595                          Duplo\n3596                          Duplo\n                       ...         \nST                  Stranger Things\nSTORMBREAKER    Marvel Super Heroes\nTANTIVEIV                 Star Wars\nTITW                    Promotional\nXWING                     Star Wars\nName: tema, Length: 7720, dtype: object"
     },
     "execution_count": 4,
     "metadata": {},
     "output_type": "execute_result"
    }
   ],
   "source": [
    "sets['tema']"
   ]
  },
  {
   "cell_type": "code",
   "execution_count": 8,
   "metadata": {},
   "outputs": [
    {
     "data": {
      "text/plain": "tema\nAgents                  5\nArchitecture           46\nAtlantis               24\nBen 10: Alien Force     6\nBionicle               79\n                       ..\nToy Story              21\nUltra Agents           14\nUnikitty               24\nWorld Racers            9\nXtra                   11\nLength: 85, dtype: int64"
     },
     "execution_count": 8,
     "metadata": {},
     "output_type": "execute_result"
    }
   ],
   "source": [
    "seti_po_temah = sets.groupby('tema')\n",
    "seti_po_temah.size()"
   ]
  },
  {
   "cell_type": "code",
   "execution_count": null,
   "metadata": {},
   "outputs": [],
   "source": []
  }
 ]
}